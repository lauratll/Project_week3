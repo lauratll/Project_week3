{
 "cells": [
  {
   "cell_type": "markdown",
   "id": "93117198",
   "metadata": {
    "toc": true
   },
   "source": [
    "<h1>Table of Contents<span class=\"tocSkip\"></span></h1>\n",
    "<div class=\"toc\"><ul class=\"toc-item\"><li><span><a href=\"#1.-Standarize-variables\" data-toc-modified-id=\"1.-Standarize-variables-1\"><span class=\"toc-item-num\">1&nbsp;&nbsp;</span>1. Standarize variables</a></span></li><li><span><a href=\"#2.-Clustering-with-K-mean\" data-toc-modified-id=\"2.-Clustering-with-K-mean-2\"><span class=\"toc-item-num\">2&nbsp;&nbsp;</span>2. Clustering with K-mean</a></span><ul class=\"toc-item\"><li><span><a href=\"#2.1.-Letting-the-default-settings???\" data-toc-modified-id=\"2.1.-Letting-the-default-settings???-2.1\"><span class=\"toc-item-num\">2.1&nbsp;&nbsp;</span>2.1. Letting the default settings???</a></span></li><li><span><a href=\"#2.2-.-Choosing-K\" data-toc-modified-id=\"2.2-.-Choosing-K-2.2\"><span class=\"toc-item-num\">2.2&nbsp;&nbsp;</span>2.2 . Choosing K</a></span><ul class=\"toc-item\"><li><span><a href=\"#2.2.1.-Elbows\" data-toc-modified-id=\"2.2.1.-Elbows-2.2.1\"><span class=\"toc-item-num\">2.2.1&nbsp;&nbsp;</span>2.2.1. Elbows</a></span></li><li><span><a href=\"#2.2.1.-Silouhete\" data-toc-modified-id=\"2.2.1.-Silouhete-2.2.2\"><span class=\"toc-item-num\">2.2.2&nbsp;&nbsp;</span>2.2.1. Silouhete</a></span></li></ul></li></ul></li><li><span><a href=\"#3.-I-choose-for-one-k-mean-model\" data-toc-modified-id=\"3.-I-choose-for-one-k-mean-model-3\"><span class=\"toc-item-num\">3&nbsp;&nbsp;</span>3. I choose for one k-mean model</a></span></li><li><span><a href=\"#4.-Export-model\" data-toc-modified-id=\"4.-Export-model-4\"><span class=\"toc-item-num\">4&nbsp;&nbsp;</span>4. Export model</a></span></li></ul></div>"
   ]
  },
  {
   "cell_type": "markdown",
   "id": "04249425",
   "metadata": {},
   "source": [
    "# Scaling and training the model K-means"
   ]
  },
  {
   "cell_type": "code",
   "execution_count": 2,
   "id": "990303ef",
   "metadata": {},
   "outputs": [],
   "source": [
    "from sklearn.preprocessing import StandardScaler\n",
    "from sklearn.cluster import KMeans\n",
    "from sklearn.metrics import silhouette_score #evaluate clustering\n",
    "import pickle #save my models trained\n",
    "import pandas as pd\n",
    "import numpy as np"
   ]
  },
  {
   "cell_type": "code",
   "execution_count": 12,
   "id": "ad41d231",
   "metadata": {},
   "outputs": [],
   "source": [
    "audio_features_for_cluster = pd.read_csv(\"../data/audio_features_for_cluster.csv\",index_col=False)"
   ]
  },
  {
   "cell_type": "code",
   "execution_count": 13,
   "id": "46c37634",
   "metadata": {},
   "outputs": [],
   "source": [
    "audio_features_for_cluster = audio_features_for_cluster.iloc[:,1:]"
   ]
  },
  {
   "cell_type": "code",
   "execution_count": 14,
   "id": "5d798193",
   "metadata": {},
   "outputs": [
    {
     "data": {
      "text/html": [
       "<div>\n",
       "<style scoped>\n",
       "    .dataframe tbody tr th:only-of-type {\n",
       "        vertical-align: middle;\n",
       "    }\n",
       "\n",
       "    .dataframe tbody tr th {\n",
       "        vertical-align: top;\n",
       "    }\n",
       "\n",
       "    .dataframe thead th {\n",
       "        text-align: right;\n",
       "    }\n",
       "</style>\n",
       "<table border=\"1\" class=\"dataframe\">\n",
       "  <thead>\n",
       "    <tr style=\"text-align: right;\">\n",
       "      <th></th>\n",
       "      <th>danceability</th>\n",
       "      <th>energy</th>\n",
       "      <th>key</th>\n",
       "      <th>loudness</th>\n",
       "      <th>mode</th>\n",
       "      <th>speechiness</th>\n",
       "      <th>acousticness</th>\n",
       "      <th>instrumentalness</th>\n",
       "      <th>liveness</th>\n",
       "      <th>valence</th>\n",
       "      <th>tempo</th>\n",
       "    </tr>\n",
       "  </thead>\n",
       "  <tbody>\n",
       "    <tr>\n",
       "      <th>0</th>\n",
       "      <td>0.759</td>\n",
       "      <td>0.459</td>\n",
       "      <td>8</td>\n",
       "      <td>-5.187</td>\n",
       "      <td>1</td>\n",
       "      <td>0.0948</td>\n",
       "      <td>0.00323</td>\n",
       "      <td>0.000000</td>\n",
       "      <td>0.0906</td>\n",
       "      <td>0.695</td>\n",
       "      <td>109.997</td>\n",
       "    </tr>\n",
       "    <tr>\n",
       "      <th>1</th>\n",
       "      <td>0.556</td>\n",
       "      <td>0.661</td>\n",
       "      <td>6</td>\n",
       "      <td>-5.052</td>\n",
       "      <td>0</td>\n",
       "      <td>0.2040</td>\n",
       "      <td>0.30000</td>\n",
       "      <td>0.000000</td>\n",
       "      <td>0.1010</td>\n",
       "      <td>0.668</td>\n",
       "      <td>168.560</td>\n",
       "    </tr>\n",
       "    <tr>\n",
       "      <th>2</th>\n",
       "      <td>0.702</td>\n",
       "      <td>0.825</td>\n",
       "      <td>6</td>\n",
       "      <td>-3.787</td>\n",
       "      <td>0</td>\n",
       "      <td>0.0601</td>\n",
       "      <td>0.00883</td>\n",
       "      <td>0.000000</td>\n",
       "      <td>0.0674</td>\n",
       "      <td>0.915</td>\n",
       "      <td>102.977</td>\n",
       "    </tr>\n",
       "    <tr>\n",
       "      <th>3</th>\n",
       "      <td>0.677</td>\n",
       "      <td>0.696</td>\n",
       "      <td>0</td>\n",
       "      <td>-6.181</td>\n",
       "      <td>1</td>\n",
       "      <td>0.1190</td>\n",
       "      <td>0.32100</td>\n",
       "      <td>0.000000</td>\n",
       "      <td>0.4200</td>\n",
       "      <td>0.464</td>\n",
       "      <td>90.030</td>\n",
       "    </tr>\n",
       "    <tr>\n",
       "      <th>4</th>\n",
       "      <td>0.586</td>\n",
       "      <td>0.616</td>\n",
       "      <td>5</td>\n",
       "      <td>-7.964</td>\n",
       "      <td>1</td>\n",
       "      <td>0.0324</td>\n",
       "      <td>0.18200</td>\n",
       "      <td>0.000000</td>\n",
       "      <td>0.0927</td>\n",
       "      <td>0.719</td>\n",
       "      <td>148.088</td>\n",
       "    </tr>\n",
       "    <tr>\n",
       "      <th>...</th>\n",
       "      <td>...</td>\n",
       "      <td>...</td>\n",
       "      <td>...</td>\n",
       "      <td>...</td>\n",
       "      <td>...</td>\n",
       "      <td>...</td>\n",
       "      <td>...</td>\n",
       "      <td>...</td>\n",
       "      <td>...</td>\n",
       "      <td>...</td>\n",
       "      <td>...</td>\n",
       "    </tr>\n",
       "    <tr>\n",
       "      <th>4595</th>\n",
       "      <td>0.599</td>\n",
       "      <td>0.796</td>\n",
       "      <td>5</td>\n",
       "      <td>-4.391</td>\n",
       "      <td>0</td>\n",
       "      <td>0.0295</td>\n",
       "      <td>0.00022</td>\n",
       "      <td>0.000357</td>\n",
       "      <td>0.0924</td>\n",
       "      <td>0.175</td>\n",
       "      <td>128.017</td>\n",
       "    </tr>\n",
       "    <tr>\n",
       "      <th>4596</th>\n",
       "      <td>0.623</td>\n",
       "      <td>0.833</td>\n",
       "      <td>4</td>\n",
       "      <td>-2.951</td>\n",
       "      <td>0</td>\n",
       "      <td>0.0557</td>\n",
       "      <td>0.01910</td>\n",
       "      <td>0.017400</td>\n",
       "      <td>0.3310</td>\n",
       "      <td>0.411</td>\n",
       "      <td>124.973</td>\n",
       "    </tr>\n",
       "    <tr>\n",
       "      <th>4597</th>\n",
       "      <td>0.722</td>\n",
       "      <td>0.761</td>\n",
       "      <td>11</td>\n",
       "      <td>-4.459</td>\n",
       "      <td>0</td>\n",
       "      <td>0.0475</td>\n",
       "      <td>0.01170</td>\n",
       "      <td>0.000000</td>\n",
       "      <td>0.3150</td>\n",
       "      <td>0.624</td>\n",
       "      <td>128.044</td>\n",
       "    </tr>\n",
       "    <tr>\n",
       "      <th>4598</th>\n",
       "      <td>0.596</td>\n",
       "      <td>0.856</td>\n",
       "      <td>4</td>\n",
       "      <td>-3.556</td>\n",
       "      <td>0</td>\n",
       "      <td>0.0346</td>\n",
       "      <td>0.02110</td>\n",
       "      <td>0.017800</td>\n",
       "      <td>0.1410</td>\n",
       "      <td>0.743</td>\n",
       "      <td>127.949</td>\n",
       "    </tr>\n",
       "    <tr>\n",
       "      <th>4599</th>\n",
       "      <td>0.447</td>\n",
       "      <td>0.848</td>\n",
       "      <td>2</td>\n",
       "      <td>-6.175</td>\n",
       "      <td>1</td>\n",
       "      <td>0.2220</td>\n",
       "      <td>0.03300</td>\n",
       "      <td>0.000074</td>\n",
       "      <td>0.6500</td>\n",
       "      <td>0.485</td>\n",
       "      <td>172.247</td>\n",
       "    </tr>\n",
       "  </tbody>\n",
       "</table>\n",
       "<p>4600 rows × 11 columns</p>\n",
       "</div>"
      ],
      "text/plain": [
       "      danceability  energy  key  loudness  mode  speechiness  acousticness  \\\n",
       "0            0.759   0.459    8    -5.187     1       0.0948       0.00323   \n",
       "1            0.556   0.661    6    -5.052     0       0.2040       0.30000   \n",
       "2            0.702   0.825    6    -3.787     0       0.0601       0.00883   \n",
       "3            0.677   0.696    0    -6.181     1       0.1190       0.32100   \n",
       "4            0.586   0.616    5    -7.964     1       0.0324       0.18200   \n",
       "...            ...     ...  ...       ...   ...          ...           ...   \n",
       "4595         0.599   0.796    5    -4.391     0       0.0295       0.00022   \n",
       "4596         0.623   0.833    4    -2.951     0       0.0557       0.01910   \n",
       "4597         0.722   0.761   11    -4.459     0       0.0475       0.01170   \n",
       "4598         0.596   0.856    4    -3.556     0       0.0346       0.02110   \n",
       "4599         0.447   0.848    2    -6.175     1       0.2220       0.03300   \n",
       "\n",
       "      instrumentalness  liveness  valence    tempo  \n",
       "0             0.000000    0.0906    0.695  109.997  \n",
       "1             0.000000    0.1010    0.668  168.560  \n",
       "2             0.000000    0.0674    0.915  102.977  \n",
       "3             0.000000    0.4200    0.464   90.030  \n",
       "4             0.000000    0.0927    0.719  148.088  \n",
       "...                ...       ...      ...      ...  \n",
       "4595          0.000357    0.0924    0.175  128.017  \n",
       "4596          0.017400    0.3310    0.411  124.973  \n",
       "4597          0.000000    0.3150    0.624  128.044  \n",
       "4598          0.017800    0.1410    0.743  127.949  \n",
       "4599          0.000074    0.6500    0.485  172.247  \n",
       "\n",
       "[4600 rows x 11 columns]"
      ]
     },
     "execution_count": 14,
     "metadata": {},
     "output_type": "execute_result"
    }
   ],
   "source": [
    "audio_features_for_cluster"
   ]
  },
  {
   "cell_type": "markdown",
   "id": "d41c6261",
   "metadata": {},
   "source": [
    "## 1. Standarize variables"
   ]
  },
  {
   "cell_type": "code",
   "execution_count": 16,
   "id": "89ff26f9",
   "metadata": {},
   "outputs": [],
   "source": [
    "scaler= StandardScaler() #I store it in this variable\n",
    "scaler.fit(audio_features_for_cluster) #we are telling thim where to find the mean and standard deviation\n",
    "audio_features_for_cluster_scaled = scaler.transform(audio_features_for_cluster)"
   ]
  },
  {
   "cell_type": "code",
   "execution_count": 17,
   "id": "5a22405c",
   "metadata": {},
   "outputs": [
    {
     "data": {
      "text/plain": [
       "array([[ 0.94508163, -0.59294296,  0.79897722, ..., -0.57164243,\n",
       "         0.46773556, -0.32966973],\n",
       "       [-0.22235475,  0.21060543,  0.23549769, ..., -0.50509664,\n",
       "         0.36619715,  1.79698858],\n",
       "       [ 0.6172793 ,  0.86299126,  0.23549769, ..., -0.72009075,\n",
       "         1.29508561, -0.5845942 ],\n",
       "       ...,\n",
       "       [ 0.73229766,  0.60840167,  1.6441965 , ...,  0.86421108,\n",
       "         0.20072714,  0.3256895 ],\n",
       "       [ 0.00768198,  0.9863081 , -0.32798183, ..., -0.24915127,\n",
       "         0.6482483 ,  0.32223966],\n",
       "       [-0.84920483,  0.9544844 , -0.89146136, ...,  3.00775354,\n",
       "        -0.32200766,  1.93087839]])"
      ]
     },
     "execution_count": 17,
     "metadata": {},
     "output_type": "execute_result"
    }
   ],
   "source": [
    "audio_features_for_cluster_scaled"
   ]
  },
  {
   "cell_type": "code",
   "execution_count": 19,
   "id": "9eb36888",
   "metadata": {},
   "outputs": [],
   "source": [
    "#Now I create a data fram with the arrays\n",
    "\n",
    "scaled_df = pd.DataFrame(audio_features_for_cluster_scaled, columns=audio_features_for_cluster.columns)"
   ]
  },
  {
   "cell_type": "code",
   "execution_count": 21,
   "id": "aaa94842",
   "metadata": {},
   "outputs": [
    {
     "data": {
      "text/html": [
       "<div>\n",
       "<style scoped>\n",
       "    .dataframe tbody tr th:only-of-type {\n",
       "        vertical-align: middle;\n",
       "    }\n",
       "\n",
       "    .dataframe tbody tr th {\n",
       "        vertical-align: top;\n",
       "    }\n",
       "\n",
       "    .dataframe thead th {\n",
       "        text-align: right;\n",
       "    }\n",
       "</style>\n",
       "<table border=\"1\" class=\"dataframe\">\n",
       "  <thead>\n",
       "    <tr style=\"text-align: right;\">\n",
       "      <th></th>\n",
       "      <th>danceability</th>\n",
       "      <th>energy</th>\n",
       "      <th>key</th>\n",
       "      <th>loudness</th>\n",
       "      <th>mode</th>\n",
       "      <th>speechiness</th>\n",
       "      <th>acousticness</th>\n",
       "      <th>instrumentalness</th>\n",
       "      <th>liveness</th>\n",
       "      <th>valence</th>\n",
       "      <th>tempo</th>\n",
       "    </tr>\n",
       "  </thead>\n",
       "  <tbody>\n",
       "    <tr>\n",
       "      <th>count</th>\n",
       "      <td>4.600000e+03</td>\n",
       "      <td>4.600000e+03</td>\n",
       "      <td>4.600000e+03</td>\n",
       "      <td>4.600000e+03</td>\n",
       "      <td>4.600000e+03</td>\n",
       "      <td>4.600000e+03</td>\n",
       "      <td>4600.000000</td>\n",
       "      <td>4.600000e+03</td>\n",
       "      <td>4.600000e+03</td>\n",
       "      <td>4.600000e+03</td>\n",
       "      <td>4.600000e+03</td>\n",
       "    </tr>\n",
       "    <tr>\n",
       "      <th>mean</th>\n",
       "      <td>4.881120e-16</td>\n",
       "      <td>1.977162e-16</td>\n",
       "      <td>-1.297513e-16</td>\n",
       "      <td>-2.224308e-16</td>\n",
       "      <td>2.239754e-17</td>\n",
       "      <td>-6.796496e-17</td>\n",
       "      <td>0.000000</td>\n",
       "      <td>4.942906e-17</td>\n",
       "      <td>1.297513e-16</td>\n",
       "      <td>1.977162e-16</td>\n",
       "      <td>-9.051697e-16</td>\n",
       "    </tr>\n",
       "    <tr>\n",
       "      <th>std</th>\n",
       "      <td>1.000109e+00</td>\n",
       "      <td>1.000109e+00</td>\n",
       "      <td>1.000109e+00</td>\n",
       "      <td>1.000109e+00</td>\n",
       "      <td>1.000109e+00</td>\n",
       "      <td>1.000109e+00</td>\n",
       "      <td>1.000109</td>\n",
       "      <td>1.000109e+00</td>\n",
       "      <td>1.000109e+00</td>\n",
       "      <td>1.000109e+00</td>\n",
       "      <td>1.000109e+00</td>\n",
       "    </tr>\n",
       "    <tr>\n",
       "      <th>min</th>\n",
       "      <td>-3.419865e+00</td>\n",
       "      <td>-2.410474e+00</td>\n",
       "      <td>-1.454941e+00</td>\n",
       "      <td>-6.241260e+00</td>\n",
       "      <td>-1.446167e+00</td>\n",
       "      <td>-9.340859e-01</td>\n",
       "      <td>-1.031151</td>\n",
       "      <td>-4.136597e-01</td>\n",
       "      <td>-1.055379e+00</td>\n",
       "      <td>-2.145938e+00</td>\n",
       "      <td>-4.324104e+00</td>\n",
       "    </tr>\n",
       "    <tr>\n",
       "      <th>25%</th>\n",
       "      <td>-5.559080e-01</td>\n",
       "      <td>-6.168107e-01</td>\n",
       "      <td>-8.914614e-01</td>\n",
       "      <td>-3.417867e-01</td>\n",
       "      <td>-1.446167e+00</td>\n",
       "      <td>-4.615468e-01</td>\n",
       "      <td>-0.877609</td>\n",
       "      <td>-4.136597e-01</td>\n",
       "      <td>-5.869992e-01</td>\n",
       "      <td>-7.620075e-01</td>\n",
       "      <td>-7.514208e-01</td>\n",
       "    </tr>\n",
       "    <tr>\n",
       "      <th>50%</th>\n",
       "      <td>1.342022e-01</td>\n",
       "      <td>1.907156e-01</td>\n",
       "      <td>-4.624207e-02</td>\n",
       "      <td>2.599634e-01</td>\n",
       "      <td>6.914833e-01</td>\n",
       "      <td>-3.480239e-01</td>\n",
       "      <td>-0.367334</td>\n",
       "      <td>-4.134732e-01</td>\n",
       "      <td>-3.771240e-01</td>\n",
       "      <td>1.067101e-01</td>\n",
       "      <td>1.567665e-02</td>\n",
       "    </tr>\n",
       "    <tr>\n",
       "      <th>75%</th>\n",
       "      <td>7.150449e-01</td>\n",
       "      <td>8.192337e-01</td>\n",
       "      <td>7.989772e-01</td>\n",
       "      <td>6.547796e-01</td>\n",
       "      <td>6.914833e-01</td>\n",
       "      <td>-7.805224e-02</td>\n",
       "      <td>0.756356</td>\n",
       "      <td>-3.800268e-01</td>\n",
       "      <td>2.563408e-01</td>\n",
       "      <td>8.447439e-01</td>\n",
       "      <td>5.532059e-01</td>\n",
       "    </tr>\n",
       "    <tr>\n",
       "      <th>max</th>\n",
       "      <td>2.158525e+00</td>\n",
       "      <td>1.555157e+00</td>\n",
       "      <td>1.644197e+00</td>\n",
       "      <td>1.891484e+00</td>\n",
       "      <td>6.914833e-01</td>\n",
       "      <td>1.246162e+01</td>\n",
       "      <td>2.058410</td>\n",
       "      <td>3.367873e+00</td>\n",
       "      <td>5.170492e+00</td>\n",
       "      <td>1.558333e+00</td>\n",
       "      <td>3.249949e+00</td>\n",
       "    </tr>\n",
       "  </tbody>\n",
       "</table>\n",
       "</div>"
      ],
      "text/plain": [
       "       danceability        energy           key      loudness          mode  \\\n",
       "count  4.600000e+03  4.600000e+03  4.600000e+03  4.600000e+03  4.600000e+03   \n",
       "mean   4.881120e-16  1.977162e-16 -1.297513e-16 -2.224308e-16  2.239754e-17   \n",
       "std    1.000109e+00  1.000109e+00  1.000109e+00  1.000109e+00  1.000109e+00   \n",
       "min   -3.419865e+00 -2.410474e+00 -1.454941e+00 -6.241260e+00 -1.446167e+00   \n",
       "25%   -5.559080e-01 -6.168107e-01 -8.914614e-01 -3.417867e-01 -1.446167e+00   \n",
       "50%    1.342022e-01  1.907156e-01 -4.624207e-02  2.599634e-01  6.914833e-01   \n",
       "75%    7.150449e-01  8.192337e-01  7.989772e-01  6.547796e-01  6.914833e-01   \n",
       "max    2.158525e+00  1.555157e+00  1.644197e+00  1.891484e+00  6.914833e-01   \n",
       "\n",
       "        speechiness  acousticness  instrumentalness      liveness  \\\n",
       "count  4.600000e+03   4600.000000      4.600000e+03  4.600000e+03   \n",
       "mean  -6.796496e-17      0.000000      4.942906e-17  1.297513e-16   \n",
       "std    1.000109e+00      1.000109      1.000109e+00  1.000109e+00   \n",
       "min   -9.340859e-01     -1.031151     -4.136597e-01 -1.055379e+00   \n",
       "25%   -4.615468e-01     -0.877609     -4.136597e-01 -5.869992e-01   \n",
       "50%   -3.480239e-01     -0.367334     -4.134732e-01 -3.771240e-01   \n",
       "75%   -7.805224e-02      0.756356     -3.800268e-01  2.563408e-01   \n",
       "max    1.246162e+01      2.058410      3.367873e+00  5.170492e+00   \n",
       "\n",
       "            valence         tempo  \n",
       "count  4.600000e+03  4.600000e+03  \n",
       "mean   1.977162e-16 -9.051697e-16  \n",
       "std    1.000109e+00  1.000109e+00  \n",
       "min   -2.145938e+00 -4.324104e+00  \n",
       "25%   -7.620075e-01 -7.514208e-01  \n",
       "50%    1.067101e-01  1.567665e-02  \n",
       "75%    8.447439e-01  5.532059e-01  \n",
       "max    1.558333e+00  3.249949e+00  "
      ]
     },
     "execution_count": 21,
     "metadata": {},
     "output_type": "execute_result"
    }
   ],
   "source": [
    "scaled_df.describe()"
   ]
  },
  {
   "cell_type": "markdown",
   "id": "ba32c370",
   "metadata": {},
   "source": [
    "## 2. Clustering with K-mean"
   ]
  },
  {
   "cell_type": "markdown",
   "id": "ffb06db5",
   "metadata": {},
   "source": [
    "### 2.1. Letting the default settings???"
   ]
  },
  {
   "cell_type": "markdown",
   "id": "4d3669f8",
   "metadata": {},
   "source": [
    "### 2.2 . Choosing K"
   ]
  },
  {
   "cell_type": "markdown",
   "id": "77b8301e",
   "metadata": {},
   "source": [
    "#### 2.2.1. Elbows"
   ]
  },
  {
   "cell_type": "code",
   "execution_count": 22,
   "id": "7f256d75",
   "metadata": {},
   "outputs": [],
   "source": [
    "K = range(2, 20)\n",
    "\n",
    "inertia = [] #sotre the inertia values\n",
    "\n",
    "for k in K:\n",
    "    kmeans = KMeans(n_clusters=k,random_state=1234)\n",
    "    kmeans.fit(scaled_df) # i train it with that, is alraady scaled\n",
    "    inertia.append(kmeans.inertia_)\n",
    "      "
   ]
  },
  {
   "cell_type": "code",
   "execution_count": 23,
   "id": "04abb0a8",
   "metadata": {},
   "outputs": [],
   "source": [
    "import numpy as np\n",
    "import matplotlib.pyplot as plt\n",
    "%matplotlib inline"
   ]
  },
  {
   "cell_type": "code",
   "execution_count": 24,
   "id": "446eedca",
   "metadata": {},
   "outputs": [
    {
     "data": {
      "text/plain": [
       "Text(0.5, 1.0, 'Elbow Method showing the optimal k')"
      ]
     },
     "execution_count": 24,
     "metadata": {},
     "output_type": "execute_result"
    },
    {
     "data": {
      "image/png": "[encoded data removed]",
      "text/plain": [
       "<Figure size 1152x576 with 1 Axes>"
      ]
     },
     "metadata": {
      "needs_background": "light"
     },
     "output_type": "display_data"
    }
   ],
   "source": [
    "plt.figure(figsize=(16,8))\n",
    "plt.plot(K, inertia, 'bx-')\n",
    "plt.xlabel('k')\n",
    "plt.ylabel('inertia')\n",
    "plt.xticks(np.arange(min(K), max(K)+1, 1.0))\n",
    "plt.title('Elbow Method showing the optimal k')\n",
    "\n",
    "###Maybe at 15 we can see a little elbow"
   ]
  },
  {
   "cell_type": "code",
   "execution_count": null,
   "id": "22880944",
   "metadata": {},
   "outputs": [],
   "source": []
  },
  {
   "cell_type": "markdown",
   "id": "e1595c2f",
   "metadata": {},
   "source": [
    "#### 2.2.1. Silouhete"
   ]
  },
  {
   "cell_type": "code",
   "execution_count": 28,
   "id": "c8ce764e",
   "metadata": {},
   "outputs": [],
   "source": [
    " #same settings as before\n",
    "K2 = range(2, 20)\n",
    "\n",
    "silhouette2 = []\n",
    "\n",
    "for k in K2:\n",
    "    kmeans = KMeans(n_clusters=k,\n",
    "                    random_state=1234)\n",
    "    kmeans.fit(scaled_df) #i can use the data framo r the array\n",
    "    silhouette2.append(silhouette_score(scaled_df, kmeans.predict(scaled_df)))\n"
   ]
  },
  {
   "cell_type": "code",
   "execution_count": 29,
   "id": "b7c7a21f",
   "metadata": {},
   "outputs": [
    {
     "data": {
      "text/plain": [
       "Text(0.5, 1.0, 'Silhouette Method showing the optimal k')"
      ]
     },
     "execution_count": 29,
     "metadata": {},
     "output_type": "execute_result"
    },
    {
     "data": {
      "image/png": "[encoded data removed]",
      "text/plain": [
       "<Figure size 1152x576 with 1 Axes>"
      ]
     },
     "metadata": {
      "needs_background": "light"
     },
     "output_type": "display_data"
    }
   ],
   "source": [
    "plt.figure(figsize=(16,8))\n",
    "plt.plot(K2, silhouette2, 'bx-')\n",
    "plt.xlabel('k')\n",
    "plt.ylabel('silhouette score')\n",
    "plt.xticks(np.arange(min(K2), max(K2)+1, 1.0))\n",
    "plt.title('Silhouette Method showing the optimal k')"
   ]
  },
  {
   "cell_type": "code",
   "execution_count": null,
   "id": "0d1765f9",
   "metadata": {},
   "outputs": [],
   "source": [
    "# 2 is the best score but It is too small the number \n",
    "#6 would be another option\n",
    "#9 maybe..."
   ]
  },
  {
   "cell_type": "code",
   "execution_count": null,
   "id": "512241e2",
   "metadata": {},
   "outputs": [],
   "source": []
  },
  {
   "cell_type": "markdown",
   "id": "a01e1590",
   "metadata": {},
   "source": [
    "## 3. I choose for one k-mean model"
   ]
  },
  {
   "cell_type": "code",
   "execution_count": 30,
   "id": "7f18b695",
   "metadata": {},
   "outputs": [
    {
     "data": {
      "text/plain": [
       "KMeans(n_clusters=9, random_state=1234)"
      ]
     },
     "execution_count": 30,
     "metadata": {},
     "output_type": "execute_result"
    }
   ],
   "source": [
    "kmeans = KMeans(n_clusters=9, random_state=1234)\n",
    "kmeans.fit(scaled_df)"
   ]
  },
  {
   "cell_type": "code",
   "execution_count": 31,
   "id": "1697f5de",
   "metadata": {},
   "outputs": [
    {
     "data": {
      "text/plain": [
       "array([8, 7, 7, ..., 7, 7, 5], dtype=int32)"
      ]
     },
     "execution_count": 31,
     "metadata": {},
     "output_type": "execute_result"
    }
   ],
   "source": [
    "clusters = kmeans.predict(scaled_df)\n",
    "clusters"
   ]
  },
  {
   "cell_type": "code",
   "execution_count": 32,
   "id": "f9582d99",
   "metadata": {},
   "outputs": [
    {
     "data": {
      "text/plain": [
       "0    177\n",
       "1    679\n",
       "2    760\n",
       "3    375\n",
       "4    430\n",
       "5    190\n",
       "6    243\n",
       "7    950\n",
       "8    796\n",
       "dtype: int64"
      ]
     },
     "execution_count": 32,
     "metadata": {},
     "output_type": "execute_result"
    }
   ],
   "source": [
    "pd.Series(clusters).value_counts().sort_index()"
   ]
  },
  {
   "cell_type": "code",
   "execution_count": 33,
   "id": "fe414fe1",
   "metadata": {},
   "outputs": [
    {
     "data": {
      "text/html": [
       "<div>\n",
       "<style scoped>\n",
       "    .dataframe tbody tr th:only-of-type {\n",
       "        vertical-align: middle;\n",
       "    }\n",
       "\n",
       "    .dataframe tbody tr th {\n",
       "        vertical-align: top;\n",
       "    }\n",
       "\n",
       "    .dataframe thead th {\n",
       "        text-align: right;\n",
       "    }\n",
       "</style>\n",
       "<table border=\"1\" class=\"dataframe\">\n",
       "  <thead>\n",
       "    <tr style=\"text-align: right;\">\n",
       "      <th></th>\n",
       "      <th>danceability</th>\n",
       "      <th>energy</th>\n",
       "      <th>key</th>\n",
       "      <th>loudness</th>\n",
       "      <th>mode</th>\n",
       "      <th>speechiness</th>\n",
       "      <th>acousticness</th>\n",
       "      <th>instrumentalness</th>\n",
       "      <th>liveness</th>\n",
       "      <th>valence</th>\n",
       "      <th>tempo</th>\n",
       "      <th>cluster</th>\n",
       "    </tr>\n",
       "  </thead>\n",
       "  <tbody>\n",
       "    <tr>\n",
       "      <th>0</th>\n",
       "      <td>0.759</td>\n",
       "      <td>0.459</td>\n",
       "      <td>8</td>\n",
       "      <td>-5.187</td>\n",
       "      <td>1</td>\n",
       "      <td>0.0948</td>\n",
       "      <td>0.00323</td>\n",
       "      <td>0.0</td>\n",
       "      <td>0.0906</td>\n",
       "      <td>0.695</td>\n",
       "      <td>109.997</td>\n",
       "      <td>8</td>\n",
       "    </tr>\n",
       "    <tr>\n",
       "      <th>1</th>\n",
       "      <td>0.556</td>\n",
       "      <td>0.661</td>\n",
       "      <td>6</td>\n",
       "      <td>-5.052</td>\n",
       "      <td>0</td>\n",
       "      <td>0.2040</td>\n",
       "      <td>0.30000</td>\n",
       "      <td>0.0</td>\n",
       "      <td>0.1010</td>\n",
       "      <td>0.668</td>\n",
       "      <td>168.560</td>\n",
       "      <td>7</td>\n",
       "    </tr>\n",
       "    <tr>\n",
       "      <th>2</th>\n",
       "      <td>0.702</td>\n",
       "      <td>0.825</td>\n",
       "      <td>6</td>\n",
       "      <td>-3.787</td>\n",
       "      <td>0</td>\n",
       "      <td>0.0601</td>\n",
       "      <td>0.00883</td>\n",
       "      <td>0.0</td>\n",
       "      <td>0.0674</td>\n",
       "      <td>0.915</td>\n",
       "      <td>102.977</td>\n",
       "      <td>7</td>\n",
       "    </tr>\n",
       "    <tr>\n",
       "      <th>3</th>\n",
       "      <td>0.677</td>\n",
       "      <td>0.696</td>\n",
       "      <td>0</td>\n",
       "      <td>-6.181</td>\n",
       "      <td>1</td>\n",
       "      <td>0.1190</td>\n",
       "      <td>0.32100</td>\n",
       "      <td>0.0</td>\n",
       "      <td>0.4200</td>\n",
       "      <td>0.464</td>\n",
       "      <td>90.030</td>\n",
       "      <td>2</td>\n",
       "    </tr>\n",
       "    <tr>\n",
       "      <th>4</th>\n",
       "      <td>0.586</td>\n",
       "      <td>0.616</td>\n",
       "      <td>5</td>\n",
       "      <td>-7.964</td>\n",
       "      <td>1</td>\n",
       "      <td>0.0324</td>\n",
       "      <td>0.18200</td>\n",
       "      <td>0.0</td>\n",
       "      <td>0.0927</td>\n",
       "      <td>0.719</td>\n",
       "      <td>148.088</td>\n",
       "      <td>4</td>\n",
       "    </tr>\n",
       "  </tbody>\n",
       "</table>\n",
       "</div>"
      ],
      "text/plain": [
       "   danceability  energy  key  loudness  mode  speechiness  acousticness  \\\n",
       "0         0.759   0.459    8    -5.187     1       0.0948       0.00323   \n",
       "1         0.556   0.661    6    -5.052     0       0.2040       0.30000   \n",
       "2         0.702   0.825    6    -3.787     0       0.0601       0.00883   \n",
       "3         0.677   0.696    0    -6.181     1       0.1190       0.32100   \n",
       "4         0.586   0.616    5    -7.964     1       0.0324       0.18200   \n",
       "\n",
       "   instrumentalness  liveness  valence    tempo  cluster  \n",
       "0               0.0    0.0906    0.695  109.997        8  \n",
       "1               0.0    0.1010    0.668  168.560        7  \n",
       "2               0.0    0.0674    0.915  102.977        7  \n",
       "3               0.0    0.4200    0.464   90.030        2  \n",
       "4               0.0    0.0927    0.719  148.088        4  "
      ]
     },
     "execution_count": 33,
     "metadata": {},
     "output_type": "execute_result"
    }
   ],
   "source": [
    "audio_features_for_cluster[\"cluster\"] = clusters #I create the new colum cluster\n",
    "audio_features_for_cluster.head()"
   ]
  },
  {
   "cell_type": "code",
   "execution_count": 36,
   "id": "cd1c1640",
   "metadata": {},
   "outputs": [],
   "source": [
    "###export the file\n",
    "\n",
    "audio_features_for_cluster.to_csv(\"../data/audio_features_for_cluster_labeled.csv\")"
   ]
  },
  {
   "cell_type": "code",
   "execution_count": null,
   "id": "68a9d48b",
   "metadata": {},
   "outputs": [],
   "source": []
  },
  {
   "cell_type": "markdown",
   "id": "0be92fde",
   "metadata": {},
   "source": [
    "## 4. Export model"
   ]
  },
  {
   "cell_type": "code",
   "execution_count": 34,
   "id": "03e4dad5",
   "metadata": {},
   "outputs": [],
   "source": [
    "import pickle\n",
    "\n",
    "#scaler = StandardScaler()\n",
    "#model = KMeans()\n",
    "\n",
    "#this is the scaler that i am saving\n",
    "\n",
    "with open(\"../data/scaler.pickle\", \"wb\") as f:\n",
    "    pickle.dump(scaler,f)\n"
   ]
  },
  {
   "cell_type": "code",
   "execution_count": 35,
   "id": "4a2f0adf",
   "metadata": {},
   "outputs": [],
   "source": [
    "#same for k-means\n",
    "\n",
    "with open(\"../data/kmeans.pickle\", \"wb\") as f:\n",
    "    pickle.dump(kmeans,f)"
   ]
  }
 ],
 "metadata": {
  "kernelspec": {
   "display_name": "Laura1Env",
   "language": "python",
   "name": "laura1env"
  },
  "language_info": {
   "codemirror_mode": {
    "name": "ipython",
    "version": 3
   },
   "file_extension": ".py",
   "mimetype": "text/x-python",
   "name": "python",
   "nbconvert_exporter": "python",
   "pygments_lexer": "ipython3",
   "version": "3.9.2"
  },
  "toc": {
   "base_numbering": 1,
   "nav_menu": {},
   "number_sections": true,
   "sideBar": true,
   "skip_h1_title": true,
   "title_cell": "Table of Contents",
   "title_sidebar": "Contents",
   "toc_cell": true,
   "toc_position": {},
   "toc_section_display": true,
   "toc_window_display": true
  }
 },
 "nbformat": 4,
 "nbformat_minor": 5
}
