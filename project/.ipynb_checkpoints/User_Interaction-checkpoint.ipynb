{
 "cells": [
  {
   "cell_type": "markdown",
   "id": "348a551d",
   "metadata": {
    "toc": true
   },
   "source": [
    "<h1>Table of Contents<span class=\"tocSkip\"></span></h1>\n",
    "<div class=\"toc\"><ul class=\"toc-item\"></ul></div>"
   ]
  },
  {
   "cell_type": "code",
   "execution_count": 1,
   "id": "0dd5f903",
   "metadata": {},
   "outputs": [],
   "source": [
    "import requests "
   ]
  },
  {
   "cell_type": "code",
   "execution_count": 2,
   "id": "1580645b",
   "metadata": {},
   "outputs": [],
   "source": [
    "#Access to my file with the Credentials\n",
    "import sys\n",
    "sys.path.insert(1, \"/Users/lauratll/Documents/Data_Analysis/IronHack/Week_3/Project_Week_3/Credentials/\")\n",
    "from config import *"
   ]
  },
  {
   "cell_type": "code",
   "execution_count": 3,
   "id": "6c513bcd",
   "metadata": {},
   "outputs": [],
   "source": [
    "#Import the requested libraries to work\n",
    "#The installer: conda install -c conda-forge spotipy\n",
    "\n",
    "import spotipy\n",
    "import json\n",
    "from spotipy.oauth2 import SpotifyClientCredentials\n",
    "import pprint"
   ]
  },
  {
   "cell_type": "code",
   "execution_count": 4,
   "id": "0b896e72",
   "metadata": {},
   "outputs": [],
   "source": [
    "#Initialize SpotiPy with user credentias\n",
    "sp = spotipy.Spotify(auth_manager=SpotifyClientCredentials(client_id= Client_ID,\n",
    "                                                           client_secret= Client_Secret))"
   ]
  },
  {
   "cell_type": "code",
   "execution_count": 22,
   "id": "db63412c",
   "metadata": {},
   "outputs": [],
   "source": [
    "def get_audio_features_from_user_song(song):\n",
    "    track_info = sp.search(q=song, limit=1)\n",
    "    song_id= track_info[\"tracks\"][\"items\"][0][\"id\"]\n",
    "    audio_features_info= sp.audio_features(tracks=song_id)\n",
    "    list_audio_f= [audio_features_info[0][keys] for keys in audio_features_info[0].keys()]\n",
    "    return list_audio_f[:11]\n"
   ]
  },
  {
   "cell_type": "code",
   "execution_count": 23,
   "id": "861fd1d7",
   "metadata": {},
   "outputs": [
    {
     "data": {
      "text/plain": [
       "[0.759, 0.459, 8, -5.187, 1, 0.0948, 0.00323, 0, 0.0906, 0.695, 109.997]"
      ]
     },
     "execution_count": 23,
     "metadata": {},
     "output_type": "execute_result"
    }
   ],
   "source": [
    "get_audio_features_from_user_song(\"Butter\")\n"
   ]
  },
  {
   "cell_type": "code",
   "execution_count": 18,
   "id": "f232a10b",
   "metadata": {},
   "outputs": [],
   "source": [
    "#Tengo que meterlo en el modelo otra vex????"
   ]
  },
  {
   "cell_type": "code",
   "execution_count": 20,
   "id": "722a2de3",
   "metadata": {},
   "outputs": [
    {
     "data": {
      "text/plain": [
       "[0.759, 0.459, 8, -5.187, 1, 0.0948, 0.00323, 0, 0.0906, 0.695, 109.997]"
      ]
     },
     "execution_count": 20,
     "metadata": {},
     "output_type": "execute_result"
    }
   ],
   "source": []
  },
  {
   "cell_type": "code",
   "execution_count": null,
   "id": "14b18980",
   "metadata": {},
   "outputs": [],
   "source": [
    "clusters = kmeans.predict(scaled_df)\n",
    "clusters"
   ]
  },
  {
   "cell_type": "code",
   "execution_count": null,
   "id": "9e317d91",
   "metadata": {},
   "outputs": [],
   "source": []
  },
  {
   "cell_type": "code",
   "execution_count": 21,
   "id": "f42019d6",
   "metadata": {},
   "outputs": [
    {
     "data": {
      "text/plain": [
       "[0.759,\n",
       " 0.459,\n",
       " 8,\n",
       " -5.187,\n",
       " 1,\n",
       " 0.0948,\n",
       " 0.00323,\n",
       " 0,\n",
       " 0.0906,\n",
       " 0.695,\n",
       " 109.997,\n",
       " 'audio_features',\n",
       " '2bgTY4UwhfBYhGT4HUYStN',\n",
       " 'spotify:track:2bgTY4UwhfBYhGT4HUYStN',\n",
       " 'https://api.spotify.com/v1/tracks/2bgTY4UwhfBYhGT4HUYStN',\n",
       " 'https://api.spotify.com/v1/audio-analysis/2bgTY4UwhfBYhGT4HUYStN',\n",
       " 164442,\n",
       " 4]"
      ]
     },
     "execution_count": 21,
     "metadata": {},
     "output_type": "execute_result"
    }
   ],
   "source": []
  },
  {
   "cell_type": "code",
   "execution_count": null,
   "id": "1d781832",
   "metadata": {},
   "outputs": [],
   "source": []
  },
  {
   "cell_type": "code",
   "execution_count": null,
   "id": "d1aa7288",
   "metadata": {},
   "outputs": [],
   "source": []
  },
  {
   "cell_type": "code",
   "execution_count": null,
   "id": "349ff113",
   "metadata": {},
   "outputs": [],
   "source": []
  },
  {
   "cell_type": "code",
   "execution_count": null,
   "id": "fbc8d759",
   "metadata": {},
   "outputs": [],
   "source": []
  },
  {
   "cell_type": "code",
   "execution_count": null,
   "id": "81b07175",
   "metadata": {},
   "outputs": [],
   "source": []
  },
  {
   "cell_type": "code",
   "execution_count": null,
   "id": "26aaf916",
   "metadata": {},
   "outputs": [],
   "source": []
  },
  {
   "cell_type": "code",
   "execution_count": null,
   "id": "e52b300d",
   "metadata": {},
   "outputs": [],
   "source": []
  },
  {
   "cell_type": "code",
   "execution_count": 8,
   "id": "a8187d7f",
   "metadata": {},
   "outputs": [],
   "source": [
    "def load(filename = \"../data/scaler.pickle\"): \n",
    "    try: \n",
    "        with open(scaler, \"rb\") as f: \n",
    "            return pickle.load(f) \n",
    "    except FileNotFoundError: \n",
    "        print(\"File not found!\") \n"
   ]
  }
 ],
 "metadata": {
  "kernelspec": {
   "display_name": "Python 3",
   "language": "python",
   "name": "python3"
  },
  "language_info": {
   "codemirror_mode": {
    "name": "ipython",
    "version": 3
   },
   "file_extension": ".py",
   "mimetype": "text/x-python",
   "name": "python",
   "nbconvert_exporter": "python",
   "pygments_lexer": "ipython3",
   "version": "3.8.8"
  },
  "toc": {
   "base_numbering": 1,
   "nav_menu": {},
   "number_sections": true,
   "sideBar": true,
   "skip_h1_title": false,
   "title_cell": "Table of Contents",
   "title_sidebar": "Contents",
   "toc_cell": true,
   "toc_position": {},
   "toc_section_display": true,
   "toc_window_display": false
  }
 },
 "nbformat": 4,
 "nbformat_minor": 5
}
