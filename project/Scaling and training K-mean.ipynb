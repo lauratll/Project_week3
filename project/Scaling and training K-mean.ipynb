{
 "cells": [
  {
   "cell_type": "markdown",
   "id": "93117198",
   "metadata": {
    "toc": true
   },
   "source": [
    "<h1>Table of Contents<span class=\"tocSkip\"></span></h1>\n",
    "<div class=\"toc\"><ul class=\"toc-item\"><li><span><a href=\"#1.-Standarize-variables\" data-toc-modified-id=\"1.-Standarize-variables-1\"><span class=\"toc-item-num\">1&nbsp;&nbsp;</span>1. Standarize variables</a></span></li><li><span><a href=\"#2.-Clustering-with-K-mean\" data-toc-modified-id=\"2.-Clustering-with-K-mean-2\"><span class=\"toc-item-num\">2&nbsp;&nbsp;</span>2. Clustering with K-mean</a></span><ul class=\"toc-item\"><li><span><a href=\"#2.1-.-Choosing-K\" data-toc-modified-id=\"2.1-.-Choosing-K-2.1\"><span class=\"toc-item-num\">2.1&nbsp;&nbsp;</span>2.1 . Choosing K</a></span><ul class=\"toc-item\"><li><span><a href=\"#2.2.1.-Elbows\" data-toc-modified-id=\"2.2.1.-Elbows-2.1.1\"><span class=\"toc-item-num\">2.1.1&nbsp;&nbsp;</span>2.2.1. Elbows</a></span></li><li><span><a href=\"#2.2.1.-Silouhete\" data-toc-modified-id=\"2.2.1.-Silouhete-2.1.2\"><span class=\"toc-item-num\">2.1.2&nbsp;&nbsp;</span>2.2.1. Silouhete</a></span></li></ul></li></ul></li><li><span><a href=\"#3.-I-choose-for-10-cluster-in-k-mean-model\" data-toc-modified-id=\"3.-I-choose-for-10-cluster-in-k-mean-model-3\"><span class=\"toc-item-num\">3&nbsp;&nbsp;</span>3. I choose for 10 cluster in k-mean model</a></span></li><li><span><a href=\"#4.-Export-model\" data-toc-modified-id=\"4.-Export-model-4\"><span class=\"toc-item-num\">4&nbsp;&nbsp;</span>4. Export model</a></span></li></ul></div>"
   ]
  },
  {
   "cell_type": "markdown",
   "id": "04249425",
   "metadata": {},
   "source": [
    "# Scaling and training the model K-means"
   ]
  },
  {
   "cell_type": "code",
   "execution_count": 1,
   "id": "990303ef",
   "metadata": {},
   "outputs": [],
   "source": [
    "from sklearn.preprocessing import StandardScaler\n",
    "from sklearn.cluster import KMeans\n",
    "from sklearn.metrics import silhouette_score #evaluate clustering\n",
    "import pickle #save my models trained\n",
    "import pandas as pd\n",
    "import numpy as np"
   ]
  },
  {
   "cell_type": "code",
   "execution_count": 2,
   "id": "ad41d231",
   "metadata": {},
   "outputs": [],
   "source": [
    "audio_features_for_cluster = pd.read_csv(\"../data/audio_features_for_cluster.csv\",index_col=False)"
   ]
  },
  {
   "cell_type": "code",
   "execution_count": 4,
   "id": "46c37634",
   "metadata": {},
   "outputs": [],
   "source": [
    "audio_features_for_cluster = audio_features_for_cluster.iloc[:,1:] # I delete the first extra index column"
   ]
  },
  {
   "cell_type": "code",
   "execution_count": 5,
   "id": "5d798193",
   "metadata": {},
   "outputs": [
    {
     "data": {
      "text/html": [
       "<div>\n",
       "<style scoped>\n",
       "    .dataframe tbody tr th:only-of-type {\n",
       "        vertical-align: middle;\n",
       "    }\n",
       "\n",
       "    .dataframe tbody tr th {\n",
       "        vertical-align: top;\n",
       "    }\n",
       "\n",
       "    .dataframe thead th {\n",
       "        text-align: right;\n",
       "    }\n",
       "</style>\n",
       "<table border=\"1\" class=\"dataframe\">\n",
       "  <thead>\n",
       "    <tr style=\"text-align: right;\">\n",
       "      <th></th>\n",
       "      <th>danceability</th>\n",
       "      <th>energy</th>\n",
       "      <th>key</th>\n",
       "      <th>loudness</th>\n",
       "      <th>mode</th>\n",
       "      <th>speechiness</th>\n",
       "      <th>acousticness</th>\n",
       "      <th>instrumentalness</th>\n",
       "      <th>liveness</th>\n",
       "      <th>valence</th>\n",
       "      <th>tempo</th>\n",
       "    </tr>\n",
       "  </thead>\n",
       "  <tbody>\n",
       "    <tr>\n",
       "      <th>0</th>\n",
       "      <td>0.759</td>\n",
       "      <td>0.459</td>\n",
       "      <td>8.0</td>\n",
       "      <td>-5.187</td>\n",
       "      <td>1.0</td>\n",
       "      <td>0.0948</td>\n",
       "      <td>0.003230</td>\n",
       "      <td>0.000000</td>\n",
       "      <td>0.0906</td>\n",
       "      <td>0.695</td>\n",
       "      <td>109.997</td>\n",
       "    </tr>\n",
       "    <tr>\n",
       "      <th>1</th>\n",
       "      <td>0.556</td>\n",
       "      <td>0.661</td>\n",
       "      <td>6.0</td>\n",
       "      <td>-5.052</td>\n",
       "      <td>0.0</td>\n",
       "      <td>0.2040</td>\n",
       "      <td>0.300000</td>\n",
       "      <td>0.000000</td>\n",
       "      <td>0.1010</td>\n",
       "      <td>0.668</td>\n",
       "      <td>168.560</td>\n",
       "    </tr>\n",
       "    <tr>\n",
       "      <th>2</th>\n",
       "      <td>0.702</td>\n",
       "      <td>0.825</td>\n",
       "      <td>6.0</td>\n",
       "      <td>-3.787</td>\n",
       "      <td>0.0</td>\n",
       "      <td>0.0601</td>\n",
       "      <td>0.008830</td>\n",
       "      <td>0.000000</td>\n",
       "      <td>0.0674</td>\n",
       "      <td>0.915</td>\n",
       "      <td>102.977</td>\n",
       "    </tr>\n",
       "    <tr>\n",
       "      <th>3</th>\n",
       "      <td>0.677</td>\n",
       "      <td>0.696</td>\n",
       "      <td>0.0</td>\n",
       "      <td>-6.181</td>\n",
       "      <td>1.0</td>\n",
       "      <td>0.1190</td>\n",
       "      <td>0.321000</td>\n",
       "      <td>0.000000</td>\n",
       "      <td>0.4200</td>\n",
       "      <td>0.464</td>\n",
       "      <td>90.030</td>\n",
       "    </tr>\n",
       "    <tr>\n",
       "      <th>4</th>\n",
       "      <td>0.586</td>\n",
       "      <td>0.616</td>\n",
       "      <td>5.0</td>\n",
       "      <td>-7.964</td>\n",
       "      <td>1.0</td>\n",
       "      <td>0.0324</td>\n",
       "      <td>0.182000</td>\n",
       "      <td>0.000000</td>\n",
       "      <td>0.0927</td>\n",
       "      <td>0.719</td>\n",
       "      <td>148.088</td>\n",
       "    </tr>\n",
       "    <tr>\n",
       "      <th>...</th>\n",
       "      <td>...</td>\n",
       "      <td>...</td>\n",
       "      <td>...</td>\n",
       "      <td>...</td>\n",
       "      <td>...</td>\n",
       "      <td>...</td>\n",
       "      <td>...</td>\n",
       "      <td>...</td>\n",
       "      <td>...</td>\n",
       "      <td>...</td>\n",
       "      <td>...</td>\n",
       "    </tr>\n",
       "    <tr>\n",
       "      <th>10112</th>\n",
       "      <td>0.346</td>\n",
       "      <td>0.944</td>\n",
       "      <td>9.0</td>\n",
       "      <td>-9.874</td>\n",
       "      <td>1.0</td>\n",
       "      <td>0.0485</td>\n",
       "      <td>0.000042</td>\n",
       "      <td>0.565000</td>\n",
       "      <td>0.0546</td>\n",
       "      <td>0.403</td>\n",
       "      <td>179.630</td>\n",
       "    </tr>\n",
       "    <tr>\n",
       "      <th>10113</th>\n",
       "      <td>0.609</td>\n",
       "      <td>0.679</td>\n",
       "      <td>0.0</td>\n",
       "      <td>-4.545</td>\n",
       "      <td>1.0</td>\n",
       "      <td>0.0312</td>\n",
       "      <td>0.243000</td>\n",
       "      <td>0.000000</td>\n",
       "      <td>0.1990</td>\n",
       "      <td>0.487</td>\n",
       "      <td>122.034</td>\n",
       "    </tr>\n",
       "    <tr>\n",
       "      <th>10114</th>\n",
       "      <td>0.897</td>\n",
       "      <td>0.371</td>\n",
       "      <td>1.0</td>\n",
       "      <td>-5.019</td>\n",
       "      <td>1.0</td>\n",
       "      <td>0.3680</td>\n",
       "      <td>0.090400</td>\n",
       "      <td>0.000000</td>\n",
       "      <td>0.3250</td>\n",
       "      <td>0.441</td>\n",
       "      <td>81.008</td>\n",
       "    </tr>\n",
       "    <tr>\n",
       "      <th>10115</th>\n",
       "      <td>0.964</td>\n",
       "      <td>0.398</td>\n",
       "      <td>11.0</td>\n",
       "      <td>-8.981</td>\n",
       "      <td>0.0</td>\n",
       "      <td>0.0795</td>\n",
       "      <td>0.001510</td>\n",
       "      <td>0.000039</td>\n",
       "      <td>0.1010</td>\n",
       "      <td>0.563</td>\n",
       "      <td>105.012</td>\n",
       "    </tr>\n",
       "    <tr>\n",
       "      <th>10116</th>\n",
       "      <td>0.653</td>\n",
       "      <td>0.524</td>\n",
       "      <td>11.0</td>\n",
       "      <td>-9.016</td>\n",
       "      <td>0.0</td>\n",
       "      <td>0.0502</td>\n",
       "      <td>0.112000</td>\n",
       "      <td>0.000000</td>\n",
       "      <td>0.2030</td>\n",
       "      <td>0.553</td>\n",
       "      <td>83.970</td>\n",
       "    </tr>\n",
       "  </tbody>\n",
       "</table>\n",
       "<p>10117 rows × 11 columns</p>\n",
       "</div>"
      ],
      "text/plain": [
       "       danceability  energy   key  loudness  mode  speechiness  acousticness  \\\n",
       "0             0.759   0.459   8.0    -5.187   1.0       0.0948      0.003230   \n",
       "1             0.556   0.661   6.0    -5.052   0.0       0.2040      0.300000   \n",
       "2             0.702   0.825   6.0    -3.787   0.0       0.0601      0.008830   \n",
       "3             0.677   0.696   0.0    -6.181   1.0       0.1190      0.321000   \n",
       "4             0.586   0.616   5.0    -7.964   1.0       0.0324      0.182000   \n",
       "...             ...     ...   ...       ...   ...          ...           ...   \n",
       "10112         0.346   0.944   9.0    -9.874   1.0       0.0485      0.000042   \n",
       "10113         0.609   0.679   0.0    -4.545   1.0       0.0312      0.243000   \n",
       "10114         0.897   0.371   1.0    -5.019   1.0       0.3680      0.090400   \n",
       "10115         0.964   0.398  11.0    -8.981   0.0       0.0795      0.001510   \n",
       "10116         0.653   0.524  11.0    -9.016   0.0       0.0502      0.112000   \n",
       "\n",
       "       instrumentalness  liveness  valence    tempo  \n",
       "0              0.000000    0.0906    0.695  109.997  \n",
       "1              0.000000    0.1010    0.668  168.560  \n",
       "2              0.000000    0.0674    0.915  102.977  \n",
       "3              0.000000    0.4200    0.464   90.030  \n",
       "4              0.000000    0.0927    0.719  148.088  \n",
       "...                 ...       ...      ...      ...  \n",
       "10112          0.565000    0.0546    0.403  179.630  \n",
       "10113          0.000000    0.1990    0.487  122.034  \n",
       "10114          0.000000    0.3250    0.441   81.008  \n",
       "10115          0.000039    0.1010    0.563  105.012  \n",
       "10116          0.000000    0.2030    0.553   83.970  \n",
       "\n",
       "[10117 rows x 11 columns]"
      ]
     },
     "execution_count": 5,
     "metadata": {},
     "output_type": "execute_result"
    }
   ],
   "source": [
    "audio_features_for_cluster"
   ]
  },
  {
   "cell_type": "markdown",
   "id": "d41c6261",
   "metadata": {},
   "source": [
    "## 1. Standarize variables"
   ]
  },
  {
   "cell_type": "code",
   "execution_count": 6,
   "id": "89ff26f9",
   "metadata": {},
   "outputs": [],
   "source": [
    "scaler= StandardScaler() #I store it in this variable\n",
    "scaler.fit(audio_features_for_cluster) #we are telling thim where to find the mean and standard deviation\n",
    "audio_features_for_cluster_scaled = scaler.transform(audio_features_for_cluster)"
   ]
  },
  {
   "cell_type": "code",
   "execution_count": 7,
   "id": "5a22405c",
   "metadata": {},
   "outputs": [
    {
     "data": {
      "text/plain": [
       "array([[ 0.83966162, -0.92006451,  0.77262036, ..., -0.63214236,\n",
       "         0.65133002, -0.41300353],\n",
       "       [-0.44388727,  0.01310138,  0.2157238 , ..., -0.56273781,\n",
       "         0.54134722,  1.7416953 ],\n",
       "       [ 0.47925627,  0.77072121,  0.2157238 , ..., -0.78696791,\n",
       "         1.5474861 , -0.67128924],\n",
       "       ...,\n",
       "       [ 1.71222196, -1.32659222, -1.17651762, ...,  0.93212956,\n",
       "        -0.38332292, -1.47959104],\n",
       "       [ 2.13585632, -1.20186213,  1.60796521, ..., -0.56273781,\n",
       "         0.11363636, -0.59641582],\n",
       "       [ 0.16943412, -0.61978836,  1.60796521, ...,  0.11796073,\n",
       "         0.072902  , -1.37061066]])"
      ]
     },
     "execution_count": 7,
     "metadata": {},
     "output_type": "execute_result"
    }
   ],
   "source": [
    "audio_features_for_cluster_scaled"
   ]
  },
  {
   "cell_type": "code",
   "execution_count": 8,
   "id": "9eb36888",
   "metadata": {},
   "outputs": [],
   "source": [
    "#Now I create a data fram with the arrays\n",
    "\n",
    "scaled_df = pd.DataFrame(audio_features_for_cluster_scaled, columns=audio_features_for_cluster.columns)"
   ]
  },
  {
   "cell_type": "code",
   "execution_count": 9,
   "id": "aaa94842",
   "metadata": {},
   "outputs": [
    {
     "data": {
      "text/html": [
       "<div>\n",
       "<style scoped>\n",
       "    .dataframe tbody tr th:only-of-type {\n",
       "        vertical-align: middle;\n",
       "    }\n",
       "\n",
       "    .dataframe tbody tr th {\n",
       "        vertical-align: top;\n",
       "    }\n",
       "\n",
       "    .dataframe thead th {\n",
       "        text-align: right;\n",
       "    }\n",
       "</style>\n",
       "<table border=\"1\" class=\"dataframe\">\n",
       "  <thead>\n",
       "    <tr style=\"text-align: right;\">\n",
       "      <th></th>\n",
       "      <th>danceability</th>\n",
       "      <th>energy</th>\n",
       "      <th>key</th>\n",
       "      <th>loudness</th>\n",
       "      <th>mode</th>\n",
       "      <th>speechiness</th>\n",
       "      <th>acousticness</th>\n",
       "      <th>instrumentalness</th>\n",
       "      <th>liveness</th>\n",
       "      <th>valence</th>\n",
       "      <th>tempo</th>\n",
       "    </tr>\n",
       "  </thead>\n",
       "  <tbody>\n",
       "    <tr>\n",
       "      <th>count</th>\n",
       "      <td>1.011700e+04</td>\n",
       "      <td>1.011700e+04</td>\n",
       "      <td>1.011700e+04</td>\n",
       "      <td>1.011700e+04</td>\n",
       "      <td>1.011700e+04</td>\n",
       "      <td>1.011700e+04</td>\n",
       "      <td>1.011700e+04</td>\n",
       "      <td>1.011700e+04</td>\n",
       "      <td>1.011700e+04</td>\n",
       "      <td>1.011700e+04</td>\n",
       "      <td>1.011700e+04</td>\n",
       "    </tr>\n",
       "    <tr>\n",
       "      <th>mean</th>\n",
       "      <td>-1.123721e-16</td>\n",
       "      <td>9.270697e-17</td>\n",
       "      <td>5.829302e-17</td>\n",
       "      <td>1.685581e-16</td>\n",
       "      <td>1.123721e-16</td>\n",
       "      <td>1.011349e-16</td>\n",
       "      <td>-7.304185e-17</td>\n",
       "      <td>-2.809302e-17</td>\n",
       "      <td>2.500279e-16</td>\n",
       "      <td>-1.460837e-16</td>\n",
       "      <td>3.546744e-17</td>\n",
       "    </tr>\n",
       "    <tr>\n",
       "      <th>std</th>\n",
       "      <td>1.000049e+00</td>\n",
       "      <td>1.000049e+00</td>\n",
       "      <td>1.000049e+00</td>\n",
       "      <td>1.000049e+00</td>\n",
       "      <td>1.000049e+00</td>\n",
       "      <td>1.000049e+00</td>\n",
       "      <td>1.000049e+00</td>\n",
       "      <td>1.000049e+00</td>\n",
       "      <td>1.000049e+00</td>\n",
       "      <td>1.000049e+00</td>\n",
       "      <td>1.000049e+00</td>\n",
       "    </tr>\n",
       "    <tr>\n",
       "      <th>min</th>\n",
       "      <td>-3.959420e+00</td>\n",
       "      <td>-3.037210e+00</td>\n",
       "      <td>-1.454966e+00</td>\n",
       "      <td>-8.325897e+00</td>\n",
       "      <td>-1.239702e+00</td>\n",
       "      <td>-9.851225e-01</td>\n",
       "      <td>-8.448364e-01</td>\n",
       "      <td>-3.097963e-01</td>\n",
       "      <td>-1.136660e+00</td>\n",
       "      <td>-2.179709e+00</td>\n",
       "      <td>-4.460105e+00</td>\n",
       "    </tr>\n",
       "    <tr>\n",
       "      <th>25%</th>\n",
       "      <td>-5.766682e-01</td>\n",
       "      <td>-5.643528e-01</td>\n",
       "      <td>-8.980693e-01</td>\n",
       "      <td>-3.110225e-01</td>\n",
       "      <td>-1.239702e+00</td>\n",
       "      <td>-5.690333e-01</td>\n",
       "      <td>-7.567903e-01</td>\n",
       "      <td>-3.097963e-01</td>\n",
       "      <td>-6.174606e-01</td>\n",
       "      <td>-7.784463e-01</td>\n",
       "      <td>-7.803064e-01</td>\n",
       "    </tr>\n",
       "    <tr>\n",
       "      <th>50%</th>\n",
       "      <td>9.355931e-02</td>\n",
       "      <td>1.886474e-01</td>\n",
       "      <td>-6.272449e-02</td>\n",
       "      <td>2.659711e-01</td>\n",
       "      <td>8.066456e-01</td>\n",
       "      <td>-4.134321e-01</td>\n",
       "      <td>-4.436378e-01</td>\n",
       "      <td>-3.097685e-01</td>\n",
       "      <td>-3.958999e-01</td>\n",
       "      <td>1.587388e-02</td>\n",
       "      <td>2.667085e-02</td>\n",
       "    </tr>\n",
       "    <tr>\n",
       "      <th>75%</th>\n",
       "      <td>6.942349e-01</td>\n",
       "      <td>7.614819e-01</td>\n",
       "      <td>7.726204e-01</td>\n",
       "      <td>6.089925e-01</td>\n",
       "      <td>8.066456e-01</td>\n",
       "      <td>7.411843e-02</td>\n",
       "      <td>4.297808e-01</td>\n",
       "      <td>-3.045688e-01</td>\n",
       "      <td>3.515338e-01</td>\n",
       "      <td>8.183409e-01</td>\n",
       "      <td>5.612708e-01</td>\n",
       "    </tr>\n",
       "    <tr>\n",
       "      <th>max</th>\n",
       "      <td>2.230700e+00</td>\n",
       "      <td>1.579157e+00</td>\n",
       "      <td>1.607965e+00</td>\n",
       "      <td>1.986139e+00</td>\n",
       "      <td>8.066456e-01</td>\n",
       "      <td>9.895437e+00</td>\n",
       "      <td>2.691438e+00</td>\n",
       "      <td>4.748543e+00</td>\n",
       "      <td>5.356670e+00</td>\n",
       "      <td>1.893728e+00</td>\n",
       "      <td>3.379970e+00</td>\n",
       "    </tr>\n",
       "  </tbody>\n",
       "</table>\n",
       "</div>"
      ],
      "text/plain": [
       "       danceability        energy           key      loudness          mode  \\\n",
       "count  1.011700e+04  1.011700e+04  1.011700e+04  1.011700e+04  1.011700e+04   \n",
       "mean  -1.123721e-16  9.270697e-17  5.829302e-17  1.685581e-16  1.123721e-16   \n",
       "std    1.000049e+00  1.000049e+00  1.000049e+00  1.000049e+00  1.000049e+00   \n",
       "min   -3.959420e+00 -3.037210e+00 -1.454966e+00 -8.325897e+00 -1.239702e+00   \n",
       "25%   -5.766682e-01 -5.643528e-01 -8.980693e-01 -3.110225e-01 -1.239702e+00   \n",
       "50%    9.355931e-02  1.886474e-01 -6.272449e-02  2.659711e-01  8.066456e-01   \n",
       "75%    6.942349e-01  7.614819e-01  7.726204e-01  6.089925e-01  8.066456e-01   \n",
       "max    2.230700e+00  1.579157e+00  1.607965e+00  1.986139e+00  8.066456e-01   \n",
       "\n",
       "        speechiness  acousticness  instrumentalness      liveness  \\\n",
       "count  1.011700e+04  1.011700e+04      1.011700e+04  1.011700e+04   \n",
       "mean   1.011349e-16 -7.304185e-17     -2.809302e-17  2.500279e-16   \n",
       "std    1.000049e+00  1.000049e+00      1.000049e+00  1.000049e+00   \n",
       "min   -9.851225e-01 -8.448364e-01     -3.097963e-01 -1.136660e+00   \n",
       "25%   -5.690333e-01 -7.567903e-01     -3.097963e-01 -6.174606e-01   \n",
       "50%   -4.134321e-01 -4.436378e-01     -3.097685e-01 -3.958999e-01   \n",
       "75%    7.411843e-02  4.297808e-01     -3.045688e-01  3.515338e-01   \n",
       "max    9.895437e+00  2.691438e+00      4.748543e+00  5.356670e+00   \n",
       "\n",
       "            valence         tempo  \n",
       "count  1.011700e+04  1.011700e+04  \n",
       "mean  -1.460837e-16  3.546744e-17  \n",
       "std    1.000049e+00  1.000049e+00  \n",
       "min   -2.179709e+00 -4.460105e+00  \n",
       "25%   -7.784463e-01 -7.803064e-01  \n",
       "50%    1.587388e-02  2.667085e-02  \n",
       "75%    8.183409e-01  5.612708e-01  \n",
       "max    1.893728e+00  3.379970e+00  "
      ]
     },
     "execution_count": 9,
     "metadata": {},
     "output_type": "execute_result"
    }
   ],
   "source": [
    "scaled_df.describe()"
   ]
  },
  {
   "cell_type": "markdown",
   "id": "ba32c370",
   "metadata": {},
   "source": [
    "## 2. Clustering with K-mean"
   ]
  },
  {
   "cell_type": "markdown",
   "id": "4d3669f8",
   "metadata": {},
   "source": [
    "### 2.1 . Choosing K"
   ]
  },
  {
   "cell_type": "markdown",
   "id": "77b8301e",
   "metadata": {},
   "source": [
    "#### 2.2.1. Elbows"
   ]
  },
  {
   "cell_type": "code",
   "execution_count": 10,
   "id": "7f256d75",
   "metadata": {},
   "outputs": [],
   "source": [
    "K = range(2, 20)\n",
    "\n",
    "inertia = [] #sotre the inertia values\n",
    "\n",
    "for k in K:\n",
    "    kmeans = KMeans(n_clusters=k,random_state=1234)\n",
    "    kmeans.fit(scaled_df) # i train it with that, is alraady scaled\n",
    "    inertia.append(kmeans.inertia_)\n",
    "      "
   ]
  },
  {
   "cell_type": "code",
   "execution_count": 11,
   "id": "04abb0a8",
   "metadata": {},
   "outputs": [],
   "source": [
    "import numpy as np\n",
    "import matplotlib.pyplot as plt\n",
    "%matplotlib inline"
   ]
  },
  {
   "cell_type": "code",
   "execution_count": 12,
   "id": "446eedca",
   "metadata": {},
   "outputs": [
    {
     "data": {
      "text/plain": [
       "Text(0.5, 1.0, 'Elbow Method showing the optimal k')"
      ]
     },
     "execution_count": 12,
     "metadata": {},
     "output_type": "execute_result"
    },
    {
     "data": {
      "image/png": "[encoded data removed]",
      "text/plain": [
       "<Figure size 1152x576 with 1 Axes>"
      ]
     },
     "metadata": {
      "needs_background": "light"
     },
     "output_type": "display_data"
    }
   ],
   "source": [
    "plt.figure(figsize=(16,8))\n",
    "plt.plot(K, inertia, 'bx-')\n",
    "plt.xlabel('k')\n",
    "plt.ylabel('inertia')\n",
    "plt.xticks(np.arange(min(K), max(K)+1, 1.0))\n",
    "plt.title('Elbow Method showing the optimal k')\n",
    "\n",
    "###Maybe at 15 we can see a little elbow"
   ]
  },
  {
   "cell_type": "code",
   "execution_count": null,
   "id": "22880944",
   "metadata": {},
   "outputs": [],
   "source": [
    "#Not clear elbows..."
   ]
  },
  {
   "cell_type": "markdown",
   "id": "e1595c2f",
   "metadata": {},
   "source": [
    "#### 2.2.1. Silouhete"
   ]
  },
  {
   "cell_type": "code",
   "execution_count": 14,
   "id": "c8ce764e",
   "metadata": {},
   "outputs": [],
   "source": [
    " #same settings as before\n",
    "K2 = range(2, 20)\n",
    "\n",
    "silhouette2 = []\n",
    "\n",
    "for k in K2:\n",
    "    kmeans = KMeans(n_clusters=k,\n",
    "                    random_state=1234)\n",
    "    kmeans.fit(scaled_df) #i can use the data framo r the array\n",
    "    silhouette2.append(silhouette_score(scaled_df, kmeans.predict(scaled_df)))\n"
   ]
  },
  {
   "cell_type": "code",
   "execution_count": 15,
   "id": "b7c7a21f",
   "metadata": {},
   "outputs": [
    {
     "data": {
      "text/plain": [
       "Text(0.5, 1.0, 'Silhouette Method showing the optimal k')"
      ]
     },
     "execution_count": 15,
     "metadata": {},
     "output_type": "execute_result"
    },
    {
     "data": {
      "image/png": "[encoded data removed]",
      "text/plain": [
       "<Figure size 1152x576 with 1 Axes>"
      ]
     },
     "metadata": {
      "needs_background": "light"
     },
     "output_type": "display_data"
    }
   ],
   "source": [
    "plt.figure(figsize=(16,8))\n",
    "plt.plot(K2, silhouette2, 'bx-')\n",
    "plt.xlabel('k')\n",
    "plt.ylabel('silhouette score')\n",
    "plt.xticks(np.arange(min(K2), max(K2)+1, 1.0))\n",
    "plt.title('Silhouette Method showing the optimal k')"
   ]
  },
  {
   "cell_type": "code",
   "execution_count": null,
   "id": "0d1765f9",
   "metadata": {},
   "outputs": [],
   "source": [
    "#There is a clear pick at 7, I could also go for 10..."
   ]
  },
  {
   "cell_type": "code",
   "execution_count": null,
   "id": "512241e2",
   "metadata": {},
   "outputs": [],
   "source": [
    "# I will pick 17 that is more or lessa peak... and slitghtly an elbow"
   ]
  },
  {
   "cell_type": "markdown",
   "id": "a01e1590",
   "metadata": {},
   "source": [
    "## 3. I choose for 10 cluster in k-mean model"
   ]
  },
  {
   "cell_type": "code",
   "execution_count": 25,
   "id": "7f18b695",
   "metadata": {},
   "outputs": [
    {
     "data": {
      "text/plain": [
       "KMeans(n_clusters=17, random_state=1234)"
      ]
     },
     "execution_count": 25,
     "metadata": {},
     "output_type": "execute_result"
    }
   ],
   "source": [
    "#10 clusters\n",
    "kmeans = KMeans(n_clusters=17, random_state=1234)\n",
    "kmeans.fit(scaled_df)"
   ]
  },
  {
   "cell_type": "code",
   "execution_count": 26,
   "id": "1697f5de",
   "metadata": {},
   "outputs": [
    {
     "data": {
      "text/plain": [
       "array([14,  5,  6, ...,  1,  6,  6], dtype=int32)"
      ]
     },
     "execution_count": 26,
     "metadata": {},
     "output_type": "execute_result"
    }
   ],
   "source": [
    "clusters = kmeans.predict(scaled_df)\n",
    "clusters"
   ]
  },
  {
   "cell_type": "code",
   "execution_count": 47,
   "id": "ec7aee0f",
   "metadata": {},
   "outputs": [
    {
     "data": {
      "text/plain": [
       "0"
      ]
     },
     "execution_count": 47,
     "metadata": {},
     "output_type": "execute_result"
    }
   ],
   "source": [
    "np.isnan(clusters).sum()"
   ]
  },
  {
   "cell_type": "code",
   "execution_count": 55,
   "id": "f9582d99",
   "metadata": {},
   "outputs": [
    {
     "data": {
      "text/plain": [
       "0      431\n",
       "1      507\n",
       "2      713\n",
       "3      312\n",
       "4      576\n",
       "5      329\n",
       "6      958\n",
       "7      320\n",
       "8      858\n",
       "9      429\n",
       "10     333\n",
       "11     736\n",
       "12     590\n",
       "13     671\n",
       "14    1011\n",
       "15     882\n",
       "16     461\n",
       "dtype: int64"
      ]
     },
     "execution_count": 55,
     "metadata": {},
     "output_type": "execute_result"
    }
   ],
   "source": [
    "pd.Series(clusters).value_counts().sort_index()"
   ]
  },
  {
   "cell_type": "code",
   "execution_count": 49,
   "id": "fe414fe1",
   "metadata": {},
   "outputs": [
    {
     "data": {
      "text/html": [
       "<div>\n",
       "<style scoped>\n",
       "    .dataframe tbody tr th:only-of-type {\n",
       "        vertical-align: middle;\n",
       "    }\n",
       "\n",
       "    .dataframe tbody tr th {\n",
       "        vertical-align: top;\n",
       "    }\n",
       "\n",
       "    .dataframe thead th {\n",
       "        text-align: right;\n",
       "    }\n",
       "</style>\n",
       "<table border=\"1\" class=\"dataframe\">\n",
       "  <thead>\n",
       "    <tr style=\"text-align: right;\">\n",
       "      <th></th>\n",
       "      <th>danceability</th>\n",
       "      <th>energy</th>\n",
       "      <th>key</th>\n",
       "      <th>loudness</th>\n",
       "      <th>mode</th>\n",
       "      <th>speechiness</th>\n",
       "      <th>acousticness</th>\n",
       "      <th>instrumentalness</th>\n",
       "      <th>liveness</th>\n",
       "      <th>valence</th>\n",
       "      <th>tempo</th>\n",
       "      <th>cluster</th>\n",
       "    </tr>\n",
       "  </thead>\n",
       "  <tbody>\n",
       "    <tr>\n",
       "      <th>0</th>\n",
       "      <td>0.759</td>\n",
       "      <td>0.459</td>\n",
       "      <td>8.0</td>\n",
       "      <td>-5.187</td>\n",
       "      <td>1.0</td>\n",
       "      <td>0.0948</td>\n",
       "      <td>0.00323</td>\n",
       "      <td>0.0</td>\n",
       "      <td>0.0906</td>\n",
       "      <td>0.695</td>\n",
       "      <td>109.997</td>\n",
       "      <td>14</td>\n",
       "    </tr>\n",
       "    <tr>\n",
       "      <th>1</th>\n",
       "      <td>0.556</td>\n",
       "      <td>0.661</td>\n",
       "      <td>6.0</td>\n",
       "      <td>-5.052</td>\n",
       "      <td>0.0</td>\n",
       "      <td>0.2040</td>\n",
       "      <td>0.30000</td>\n",
       "      <td>0.0</td>\n",
       "      <td>0.1010</td>\n",
       "      <td>0.668</td>\n",
       "      <td>168.560</td>\n",
       "      <td>5</td>\n",
       "    </tr>\n",
       "    <tr>\n",
       "      <th>2</th>\n",
       "      <td>0.702</td>\n",
       "      <td>0.825</td>\n",
       "      <td>6.0</td>\n",
       "      <td>-3.787</td>\n",
       "      <td>0.0</td>\n",
       "      <td>0.0601</td>\n",
       "      <td>0.00883</td>\n",
       "      <td>0.0</td>\n",
       "      <td>0.0674</td>\n",
       "      <td>0.915</td>\n",
       "      <td>102.977</td>\n",
       "      <td>6</td>\n",
       "    </tr>\n",
       "    <tr>\n",
       "      <th>3</th>\n",
       "      <td>0.677</td>\n",
       "      <td>0.696</td>\n",
       "      <td>0.0</td>\n",
       "      <td>-6.181</td>\n",
       "      <td>1.0</td>\n",
       "      <td>0.1190</td>\n",
       "      <td>0.32100</td>\n",
       "      <td>0.0</td>\n",
       "      <td>0.4200</td>\n",
       "      <td>0.464</td>\n",
       "      <td>90.030</td>\n",
       "      <td>11</td>\n",
       "    </tr>\n",
       "    <tr>\n",
       "      <th>4</th>\n",
       "      <td>0.586</td>\n",
       "      <td>0.616</td>\n",
       "      <td>5.0</td>\n",
       "      <td>-7.964</td>\n",
       "      <td>1.0</td>\n",
       "      <td>0.0324</td>\n",
       "      <td>0.18200</td>\n",
       "      <td>0.0</td>\n",
       "      <td>0.0927</td>\n",
       "      <td>0.719</td>\n",
       "      <td>148.088</td>\n",
       "      <td>12</td>\n",
       "    </tr>\n",
       "  </tbody>\n",
       "</table>\n",
       "</div>"
      ],
      "text/plain": [
       "   danceability  energy  key  loudness  mode  speechiness  acousticness  \\\n",
       "0         0.759   0.459  8.0    -5.187   1.0       0.0948       0.00323   \n",
       "1         0.556   0.661  6.0    -5.052   0.0       0.2040       0.30000   \n",
       "2         0.702   0.825  6.0    -3.787   0.0       0.0601       0.00883   \n",
       "3         0.677   0.696  0.0    -6.181   1.0       0.1190       0.32100   \n",
       "4         0.586   0.616  5.0    -7.964   1.0       0.0324       0.18200   \n",
       "\n",
       "   instrumentalness  liveness  valence    tempo  cluster  \n",
       "0               0.0    0.0906    0.695  109.997       14  \n",
       "1               0.0    0.1010    0.668  168.560        5  \n",
       "2               0.0    0.0674    0.915  102.977        6  \n",
       "3               0.0    0.4200    0.464   90.030       11  \n",
       "4               0.0    0.0927    0.719  148.088       12  "
      ]
     },
     "execution_count": 49,
     "metadata": {},
     "output_type": "execute_result"
    }
   ],
   "source": [
    "#ADD THE LABELS TO MY ORIGINAL TABLE\n",
    "\n",
    "audio_features_for_cluster[\"cluster\"] = clusters #I create the new colum cluster\n",
    "audio_features_for_cluster.head()"
   ]
  },
  {
   "cell_type": "code",
   "execution_count": 58,
   "id": "cd1c1640",
   "metadata": {},
   "outputs": [],
   "source": [
    "###export the file\n",
    "\n",
    "audio_features_for_cluster.to_csv(\"../data/audio_features_for_cluster_labeled.csv\")"
   ]
  },
  {
   "cell_type": "markdown",
   "id": "0be92fde",
   "metadata": {},
   "source": [
    "## 4. Export model"
   ]
  },
  {
   "cell_type": "code",
   "execution_count": 31,
   "id": "03e4dad5",
   "metadata": {},
   "outputs": [],
   "source": [
    "import pickle\n",
    "\n",
    "#scaler = StandardScaler()\n",
    "#model = KMeans()\n",
    "\n",
    "#this is the scaler that i am saving\n",
    "\n",
    "with open(\"../data/scaler.pickle\", \"wb\") as f:\n",
    "    pickle.dump(scaler,f)\n"
   ]
  },
  {
   "cell_type": "code",
   "execution_count": 32,
   "id": "4a2f0adf",
   "metadata": {},
   "outputs": [],
   "source": [
    "#same for k-means\n",
    "\n",
    "with open(\"../data/kmeans.pickle\", \"wb\") as f:\n",
    "    pickle.dump(kmeans,f)"
   ]
  }
 ],
 "metadata": {
  "kernelspec": {
   "display_name": "Laura1Env",
   "language": "python",
   "name": "laura1env"
  },
  "language_info": {
   "codemirror_mode": {
    "name": "ipython",
    "version": 3
   },
   "file_extension": ".py",
   "mimetype": "text/x-python",
   "name": "python",
   "nbconvert_exporter": "python",
   "pygments_lexer": "ipython3",
   "version": "3.9.2"
  },
  "toc": {
   "base_numbering": 1,
   "nav_menu": {},
   "number_sections": true,
   "sideBar": true,
   "skip_h1_title": true,
   "title_cell": "Table of Contents",
   "title_sidebar": "Contents",
   "toc_cell": true,
   "toc_position": {},
   "toc_section_display": true,
   "toc_window_display": true
  }
 },
 "nbformat": 4,
 "nbformat_minor": 5
}
